{
 "cells": [
  {
   "cell_type": "code",
   "execution_count": null,
   "metadata": {},
   "outputs": [],
   "source": [
    "import json\n",
    "import requests\n",
    "\n",
    "DOMAIN = 'https://adb-XXXXXX.azuredatabricks.net'\n",
    "TOKEN = \"XXXXXXXX\"\n",
    "BASE_URL = '{0}/api/2.1/'.format(DOMAIN)\n"
   ]
  },
  {
   "cell_type": "code",
   "execution_count": null,
   "metadata": {},
   "outputs": [],
   "source": [
    "# https://docs.databricks.com/api/workspace/catalogs/list\n",
    "\n",
    "\n",
    "def list_catalogs(full=False):\n",
    "    action = \"unity-catalog/catalogs\"\n",
    "\n",
    "    response = requests.get(\n",
    "    BASE_URL + action,\n",
    "        headers={'Authorization': 'Bearer %s' % TOKEN }\n",
    "        #json=body\n",
    "        )\n",
    "    catalogs = response.json()[\"catalogs\"]\n",
    "    if full:\n",
    "        return catalogs\n",
    "    return [cat[\"name\"] for cat in catalogs]\n"
   ]
  },
  {
   "cell_type": "code",
   "execution_count": null,
   "metadata": {},
   "outputs": [],
   "source": [
    "catalogs = list_catalogs()\n",
    "catalogs"
   ]
  },
  {
   "cell_type": "code",
   "execution_count": null,
   "metadata": {},
   "outputs": [],
   "source": [
    "# https://docs.databricks.com/api/workspace/schemas/list\n",
    "\n",
    "\n",
    "def list_schemas(catalog, full=False):\n",
    "    action = \"unity-catalog/schemas?catalog_name={0}\".format(catalog)\n",
    "\n",
    "    response = requests.get(\n",
    "    BASE_URL + action,\n",
    "        headers={'Authorization': 'Bearer %s' % TOKEN }\n",
    "        #json=body\n",
    "        )\n",
    "\n",
    "    schemas = response.json()[\"schemas\"]\n",
    "    if full:\n",
    "        return schemas\n",
    "    return [schema[\"name\"] for schema in schemas]"
   ]
  },
  {
   "cell_type": "code",
   "execution_count": null,
   "metadata": {},
   "outputs": [],
   "source": [
    "# for cat in catalogs:\n",
    "#     print(list_schemas(cat))\n",
    "\n",
    "cat = \"healthcare\"\n",
    "schemas = list_schemas(cat)\n",
    "schemas"
   ]
  },
  {
   "cell_type": "code",
   "execution_count": null,
   "metadata": {},
   "outputs": [],
   "source": [
    "schema = \"clinicaltrialssilver\""
   ]
  },
  {
   "cell_type": "code",
   "execution_count": null,
   "metadata": {},
   "outputs": [],
   "source": [
    "# https://docs.databricks.com/api/workspace/tables/list\n",
    "\n",
    "\n",
    "def list_tables(catalog,schema, full=False):\n",
    "    action = \"unity-catalog/tables?catalog_name={0}&schema_name={1}&include_delta_metadata=True\".format(catalog,schema)\n",
    "\n",
    "    response = requests.get(\n",
    "    BASE_URL + action,\n",
    "        headers={'Authorization': 'Bearer %s' % TOKEN }\n",
    "        #json=body\n",
    "        )\n",
    "    tables = response.json()[\"tables\"]\n",
    "    if full:\n",
    "        return tables\n",
    "    return [table[\"name\"] for table in tables]"
   ]
  },
  {
   "cell_type": "code",
   "execution_count": null,
   "metadata": {},
   "outputs": [],
   "source": [
    "tables = list_tables(cat, schema, full=False)\n",
    "tables"
   ]
  },
  {
   "cell_type": "code",
   "execution_count": null,
   "metadata": {},
   "outputs": [],
   "source": [
    "def gettablestoragelocation(catalog,schema, table, full=False):\n",
    "    action = \"unity-catalog/tables/{0}.{1}.{2}\".format(catalog,schema,table)\n",
    "\n",
    "    response = requests.get(\n",
    "    BASE_URL + action,\n",
    "        headers={'Authorization': 'Bearer %s' % TOKEN }\n",
    "        #json=body\n",
    "        )\n",
    "    tabledetails = response.json()\n",
    "    sto_loc = tabledetails[\"storage_location\"]\n",
    "    splitted = sto_loc.split(\"@\")\n",
    "    container_name = splitted[0][8:]\n",
    "    path_splitted = splitted[1].split(\"/\")\n",
    "    new_path = [path_splitted[0], container_name] + path_splitted[1:]\n",
    "    https_path = \"https://\" + \"/\".join(new_path) \n",
    "    print(table)\n",
    "    print(sto_loc)\n",
    "    print(https_path + \"\\n\")\n",
    "\n",
    "for table in tables:\n",
    "    gettablestoragelocation(cat, schema, table)"
   ]
  },
  {
   "cell_type": "code",
   "execution_count": null,
   "metadata": {},
   "outputs": [],
   "source": [
    "table = tables[0]\n",
    "table"
   ]
  },
  {
   "cell_type": "code",
   "execution_count": null,
   "metadata": {},
   "outputs": [],
   "source": [
    "# https://docs.databricks.com/api/workspace/grants/get\n",
    "\n",
    "\n",
    "def get_data_permissions(cat, schema=None, table=None, effective_permissions=False):\n",
    "    if not schema:\n",
    "        full_name = cat\n",
    "        securabletype = \"catalog\"\n",
    "    elif not table:\n",
    "        securabletype = \"schema\"\n",
    "        full_name = \"{0}.{1}\".format(cat, schema)\n",
    "    else:\n",
    "        securabletype = \"table\"\n",
    "        full_name = \"{0}.{1}.{2}\".format(cat, schema, table)\n",
    "\n",
    "    if effective_permissions:\n",
    "        action = \"unity-catalog/effective-permissions/{0}/{1}\".format(securabletype, full_name)\n",
    "    else:\n",
    "        action = \"unity-catalog/permissions/{0}/{1}\".format(securabletype, full_name)\n",
    "\n",
    "    response = requests.get(\n",
    "    BASE_URL + action,\n",
    "        headers={'Authorization': 'Bearer %s' % TOKEN }\n",
    "        #json=body\n",
    "        )\n",
    "\n",
    "    resp = response.json()\n",
    "    if \"privilege_assignments\" in resp:\n",
    "        return resp[\"privilege_assignments\"]\n",
    "    return resp\n"
   ]
  },
  {
   "cell_type": "code",
   "execution_count": null,
   "metadata": {},
   "outputs": [],
   "source": [
    "get_data_permissions(cat, schema, table, effective_permissions=True)"
   ]
  }
 ],
 "metadata": {
  "kernelspec": {
   "display_name": "Python 3",
   "language": "python",
   "name": "python3"
  },
  "language_info": {
   "codemirror_mode": {
    "name": "ipython",
    "version": 3
   },
   "file_extension": ".py",
   "mimetype": "text/x-python",
   "name": "python",
   "nbconvert_exporter": "python",
   "pygments_lexer": "ipython3",
   "version": "3.10.11"
  },
  "orig_nbformat": 4
 },
 "nbformat": 4,
 "nbformat_minor": 2
}
